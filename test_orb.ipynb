{
 "cells": [
  {
   "cell_type": "code",
   "execution_count": 165,
   "metadata": {},
   "outputs": [],
   "source": [
    "import ORB_STR_MT5 as orb\n",
    "import MetaTrader5 as mt5\n",
    "from datetime import timedelta, datetime\n",
    "import pandas as pd\n",
    "import pytz"
   ]
  },
  {
   "cell_type": "code",
   "execution_count": 108,
   "metadata": {},
   "outputs": [
    {
     "name": "stdout",
     "output_type": "stream",
     "text": [
      "Started\n"
     ]
    },
    {
     "data": {
      "text/plain": [
       "<module 'ORB_STR_MT5' from 'c:\\\\Users\\\\cv\\\\jupyterscripts\\\\kylemorton\\\\ORB_STR_MT5.py'>"
      ]
     },
     "execution_count": 108,
     "metadata": {},
     "output_type": "execute_result"
    }
   ],
   "source": [
    "from importlib import reload\n",
    "reload(orb)"
   ]
  },
  {
   "cell_type": "code",
   "execution_count": 110,
   "metadata": {},
   "outputs": [
    {
     "data": {
      "text/plain": [
       "True"
      ]
     },
     "execution_count": 110,
     "metadata": {},
     "output_type": "execute_result"
    }
   ],
   "source": [
    "# Demo Account\n",
    "LOGIN = 62867314\n",
    "PASSWORD = \"2nNh1%)w\"\n",
    "SERVER = \"OANDATMS-MT5\"\n",
    "\n",
    "def initialize_trading():\n",
    "    # Initialize MT5 connection\n",
    "    if not mt5.initialize():\n",
    "        error_msg = f\"initialize() failed, error code = {mt5.last_error()}\"\n",
    "        # logging.error(error_msg)\n",
    "        print(error_msg)\n",
    "        return False\n",
    "    # Connect to the account\n",
    "    authorized = mt5.login(LOGIN, password=PASSWORD, server=SERVER)\n",
    "    if not authorized:\n",
    "        error_msg = f\"Failed to connect to account {LOGIN}, error code: {mt5.last_error()}\"\n",
    "        # logging.error(error_msg)\n",
    "        print(error_msg)\n",
    "        mt5.shutdown()\n",
    "        return False\n",
    "    return True\n",
    "\n",
    "initialize_trading()"
   ]
  },
  {
   "cell_type": "code",
   "execution_count": 124,
   "metadata": {},
   "outputs": [
    {
     "data": {
      "text/plain": [
       "(62829.34, 62898.51)"
      ]
     },
     "execution_count": 124,
     "metadata": {},
     "output_type": "execute_result"
    }
   ],
   "source": [
    "orb.get_current_price(\"BTCUSD\")"
   ]
  },
  {
   "cell_type": "code",
   "execution_count": 105,
   "metadata": {},
   "outputs": [
    {
     "data": {
      "text/plain": [
       "OrderSendResult(retcode=10009, deal=0, order=57585605, volume=0.001, price=0.0, bid=0.0, ask=0.0, comment='Request executed', request_id=2002822279, retcode_external=0, request=TradeRequest(action=5, magic=1440, order=0, symbol='BTCUSD', volume=0.001, price=63000.0, stoplimit=0.0, sl=65000.0, tp=0.0, deviation=0, type=3, type_filling=2, type_time=0, expiration=0, comment='comment', position=0, position_by=0))"
      ]
     },
     "execution_count": 105,
     "metadata": {},
     "output_type": "execute_result"
    }
   ],
   "source": [
    "def place_order(symbol, order_type, qty, entry_price, stop_loss = None):\n",
    "    request = {\n",
    "        \"action\": mt5.TRADE_ACTION_PENDING,\n",
    "        \"symbol\": symbol,\n",
    "        \"volume\": qty,\n",
    "        \"type\": order_type,\n",
    "        \"price\": entry_price,\n",
    "        \"sl\": stop_loss,\n",
    "        # \"deviation\": deviation,\n",
    "        \"magic\": 1440,\n",
    "        \"comment\": \"comment\",\n",
    "        \"type_time\": mt5.ORDER_TIME_GTC,\n",
    "        \"type_filling\": mt5.ORDER_FILLING_RETURN\n",
    "    }\n",
    "    return mt5.order_send(request)\n",
    "    \n",
    "place_order(\"BTCUSD\",mt5.ORDER_TYPE_SELL_LIMIT,0.001, 63000.0, stop_loss=65000.0)"
   ]
  },
  {
   "cell_type": "code",
   "execution_count": 42,
   "metadata": {},
   "outputs": [
    {
     "data": {
      "text/plain": [
       "(TradePosition(ticket=57575637, time=1709321880, time_msc=1709321880095, time_update=1709321880, time_update_msc=1709321880095, type=0, magic=1440, identifier=57575637, reason=3, volume=0.1, price_open=18323.1, sl=18079.1, tp=0.0, price_current=18340.4, swap=0.0, profit=137.81, symbol='US100.pro', comment='python script bu', external_id=''),\n",
       " TradePosition(ticket=57577198, time=1709323680, time_msc=1709323680378, time_update=1709323680, time_update_msc=1709323680378, type=0, magic=1440, identifier=57577198, reason=3, volume=0.1, price_open=18346.8, sl=18093.2, tp=0.0, price_current=18340.4, swap=0.0, profit=-51.03, symbol='US100.pro', comment='python script bu', external_id=''),\n",
       " TradePosition(ticket=57578129, time=1709325240, time_msc=1709325240093, time_update=1709325240, time_update_msc=1709325240093, type=0, magic=1440, identifier=57578129, reason=3, volume=0.1, price_open=18351.1, sl=18093.6, tp=0.0, price_current=18340.4, swap=0.0, profit=-85.31, symbol='US100.pro', comment='python script bu', external_id=''),\n",
       " TradePosition(ticket=57578683, time=1709326020, time_msc=1709326020146, time_update=1709326020, time_update_msc=1709326020146, type=0, magic=1440, identifier=57578683, reason=3, volume=0.1, price_open=18349.8, sl=18071.6, tp=0.0, price_current=18340.4, swap=0.0, profit=-74.95, symbol='US100.pro', comment='python script bu', external_id=''),\n",
       " TradePosition(ticket=57580161, time=1709328959, time_msc=1709328959606, time_update=1709328959, time_update_msc=1709328959606, type=0, magic=1440, identifier=57580161, reason=3, volume=0.1, price_open=18336.1, sl=18120.4, tp=0.0, price_current=18340.4, swap=0.0, profit=34.25, symbol='US100.pro', comment='python script bu', external_id=''))"
      ]
     },
     "execution_count": 42,
     "metadata": {},
     "output_type": "execute_result"
    }
   ],
   "source": [
    "mt5.positions_get()"
   ]
  },
  {
   "cell_type": "code",
   "execution_count": 179,
   "metadata": {},
   "outputs": [
    {
     "data": {
      "text/plain": [
       "datetime.datetime(2024, 3, 4, 0, 5, 14, 108425)"
      ]
     },
     "execution_count": 179,
     "metadata": {},
     "output_type": "execute_result"
    }
   ],
   "source": [
    "symbol = \"BTCUSD\"\n",
    "OPENING_RANGE_MINUTES = 4\n",
    "current_time_utc = datetime.now() + timedelta(hours=1)\n",
    "current_time_utc"
   ]
  },
  {
   "cell_type": "code",
   "execution_count": 137,
   "metadata": {},
   "outputs": [
    {
     "data": {
      "text/plain": [
       "(datetime.datetime(2024, 3, 3, 22, 29, 7, 825381),)"
      ]
     },
     "execution_count": 137,
     "metadata": {},
     "output_type": "execute_result"
    }
   ],
   "source": [
    "datetime.now() - timedelta(\n",
    "        minutes=OPENING_RANGE_MINUTES),"
   ]
  },
  {
   "cell_type": "code",
   "execution_count": 184,
   "metadata": {},
   "outputs": [
    {
     "data": {
      "text/html": [
       "<div>\n",
       "<style scoped>\n",
       "    .dataframe tbody tr th:only-of-type {\n",
       "        vertical-align: middle;\n",
       "    }\n",
       "\n",
       "    .dataframe tbody tr th {\n",
       "        vertical-align: top;\n",
       "    }\n",
       "\n",
       "    .dataframe thead th {\n",
       "        text-align: right;\n",
       "    }\n",
       "</style>\n",
       "<table border=\"1\" class=\"dataframe\">\n",
       "  <thead>\n",
       "    <tr style=\"text-align: right;\">\n",
       "      <th></th>\n",
       "      <th>time</th>\n",
       "      <th>open</th>\n",
       "      <th>high</th>\n",
       "      <th>low</th>\n",
       "      <th>close</th>\n",
       "      <th>tick_volume</th>\n",
       "      <th>spread</th>\n",
       "      <th>real_volume</th>\n",
       "    </tr>\n",
       "  </thead>\n",
       "  <tbody>\n",
       "    <tr>\n",
       "      <th>0</th>\n",
       "      <td>2024-03-03 18:58:00</td>\n",
       "      <td>62645.56</td>\n",
       "      <td>62648.51</td>\n",
       "      <td>62606.50</td>\n",
       "      <td>62618.42</td>\n",
       "      <td>72</td>\n",
       "      <td>251</td>\n",
       "      <td>0</td>\n",
       "    </tr>\n",
       "    <tr>\n",
       "      <th>1</th>\n",
       "      <td>2024-03-03 18:59:00</td>\n",
       "      <td>62622.08</td>\n",
       "      <td>62633.65</td>\n",
       "      <td>62604.82</td>\n",
       "      <td>62612.13</td>\n",
       "      <td>44</td>\n",
       "      <td>251</td>\n",
       "      <td>0</td>\n",
       "    </tr>\n",
       "    <tr>\n",
       "      <th>2</th>\n",
       "      <td>2024-03-03 19:00:00</td>\n",
       "      <td>62605.63</td>\n",
       "      <td>62654.51</td>\n",
       "      <td>62605.63</td>\n",
       "      <td>62643.02</td>\n",
       "      <td>84</td>\n",
       "      <td>251</td>\n",
       "      <td>0</td>\n",
       "    </tr>\n",
       "    <tr>\n",
       "      <th>3</th>\n",
       "      <td>2024-03-03 19:01:00</td>\n",
       "      <td>62649.84</td>\n",
       "      <td>62661.75</td>\n",
       "      <td>62643.02</td>\n",
       "      <td>62661.23</td>\n",
       "      <td>73</td>\n",
       "      <td>251</td>\n",
       "      <td>0</td>\n",
       "    </tr>\n",
       "  </tbody>\n",
       "</table>\n",
       "</div>"
      ],
      "text/plain": [
       "                 time      open      high       low     close  tick_volume  \\\n",
       "0 2024-03-03 18:58:00  62645.56  62648.51  62606.50  62618.42           72   \n",
       "1 2024-03-03 18:59:00  62622.08  62633.65  62604.82  62612.13           44   \n",
       "2 2024-03-03 19:00:00  62605.63  62654.51  62605.63  62643.02           84   \n",
       "3 2024-03-03 19:01:00  62649.84  62661.75  62643.02  62661.23           73   \n",
       "\n",
       "   spread  real_volume  \n",
       "0     251            0  \n",
       "1     251            0  \n",
       "2     251            0  \n",
       "3     251            0  "
      ]
     },
     "execution_count": 184,
     "metadata": {},
     "output_type": "execute_result"
    }
   ],
   "source": [
    "new_data = mt5.copy_rates_from(symbol, mt5.TIMEFRAME_M1, current_time_utc - timedelta(minutes=4), 4)\n",
    "df = pd.DataFrame(new_data)\n",
    "df['time'] = pd.to_datetime(df['time'], unit='s')\n",
    "df"
   ]
  },
  {
   "cell_type": "code",
   "execution_count": 163,
   "metadata": {},
   "outputs": [
    {
     "data": {
      "text/plain": [
       "(62786.82, 62494.71)"
      ]
     },
     "execution_count": 163,
     "metadata": {},
     "output_type": "execute_result"
    }
   ],
   "source": [
    "# opening_range_prices = mt5.copy_rates_range(symbol, mt5.TIMEFRAME_M1,\n",
    "#                     current_time_utc -\n",
    "#                     timedelta(\n",
    "#                     minutes=OPENING_RANGE_MINUTES),\n",
    "#                     datetime.now())\n",
    "\n",
    "opening_range_high = max(\n",
    "    new_data[\"high\"])\n",
    "opening_range_low = min(\n",
    "    new_data[\"low\"])\n",
    "opening_range_high, opening_range_low"
   ]
  },
  {
   "cell_type": "code",
   "execution_count": 164,
   "metadata": {},
   "outputs": [
    {
     "name": "stdout",
     "output_type": "stream",
     "text": [
      "Order Send request: {'action': 5, 'symbol': 'BTCUSD', 'volume': 0.001, 'type': 3, 'price': 62786.82, 'sl': 65000.0, 'magic': 1440, 'comment': 'main function', 'type_time': 0, 'type_filling': 2}\n",
      "Order result: OrderSendResult(retcode=10009, deal=0, order=57585696, volume=0.001, price=0.0, bid=0.0, ask=0.0, comment='Request executed', request_id=2002822290, retcode_external=0, request=TradeRequest(action=5, magic=1440, order=0, symbol='BTCUSD', volume=0.001, price=62786.82, stoplimit=0.0, sl=65000.0, tp=0.0, deviation=0, type=3, type_filling=2, type_time=0, expiration=0, comment='main function', position=0, position_by=0))\n"
     ]
    },
    {
     "data": {
      "text/plain": [
       "OrderSendResult(retcode=10009, deal=0, order=57585696, volume=0.001, price=0.0, bid=0.0, ask=0.0, comment='Request executed', request_id=2002822290, retcode_external=0, request=TradeRequest(action=5, magic=1440, order=0, symbol='BTCUSD', volume=0.001, price=62786.82, stoplimit=0.0, sl=65000.0, tp=0.0, deviation=0, type=3, type_filling=2, type_time=0, expiration=0, comment='main function', position=0, position_by=0))"
      ]
     },
     "execution_count": 164,
     "metadata": {},
     "output_type": "execute_result"
    }
   ],
   "source": [
    "orb.place_order(\"BTCUSD\",mt5.ORDER_TYPE_SELL_LIMIT, 0.001, opening_range_high, 65000.0)"
   ]
  },
  {
   "cell_type": "code",
   "execution_count": null,
   "metadata": {},
   "outputs": [],
   "source": []
  }
 ],
 "metadata": {
  "kernelspec": {
   "display_name": "Python 3",
   "language": "python",
   "name": "python3"
  },
  "language_info": {
   "codemirror_mode": {
    "name": "ipython",
    "version": 3
   },
   "file_extension": ".py",
   "mimetype": "text/x-python",
   "name": "python",
   "nbconvert_exporter": "python",
   "pygments_lexer": "ipython3",
   "version": "3.11.2"
  }
 },
 "nbformat": 4,
 "nbformat_minor": 2
}
